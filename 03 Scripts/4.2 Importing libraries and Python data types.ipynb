{
 "cells": [
  {
   "cell_type": "markdown",
   "id": "468b1368",
   "metadata": {},
   "source": [
    "# 01. Importing libraries"
   ]
  },
  {
   "cell_type": "code",
   "execution_count": 1,
   "id": "c84a45c8",
   "metadata": {},
   "outputs": [],
   "source": [
    "# Import libraries\n",
    "import pandas as pd\n",
    "import numpy as np\n",
    "import os"
   ]
  },
  {
   "cell_type": "code",
   "execution_count": 10,
   "id": "423f6a4e",
   "metadata": {},
   "outputs": [
    {
     "data": {
      "text/plain": [
       "100"
      ]
     },
     "execution_count": 10,
     "metadata": {},
     "output_type": "execute_result"
    }
   ],
   "source": [
    "# Python data types\n",
    "6+94"
   ]
  },
  {
   "cell_type": "code",
   "execution_count": 11,
   "id": "725cbf48",
   "metadata": {},
   "outputs": [],
   "source": [
    "x=20"
   ]
  },
  {
   "cell_type": "code",
   "execution_count": 12,
   "id": "f867fe2e",
   "metadata": {},
   "outputs": [
    {
     "data": {
      "text/plain": [
       "100"
      ]
     },
     "execution_count": 12,
     "metadata": {},
     "output_type": "execute_result"
    }
   ],
   "source": [
    "120-x"
   ]
  },
  {
   "cell_type": "code",
   "execution_count": 13,
   "id": "76228982",
   "metadata": {},
   "outputs": [],
   "source": [
    "x=x+80"
   ]
  },
  {
   "cell_type": "code",
   "execution_count": 14,
   "id": "5b3c8365",
   "metadata": {},
   "outputs": [
    {
     "data": {
      "text/plain": [
       "100"
      ]
     },
     "execution_count": 14,
     "metadata": {},
     "output_type": "execute_result"
    }
   ],
   "source": [
    "x"
   ]
  },
  {
   "cell_type": "code",
   "execution_count": 15,
   "id": "71fbdbd1",
   "metadata": {},
   "outputs": [],
   "source": [
    "y=1.45\n",
    "z=5.32"
   ]
  },
  {
   "cell_type": "code",
   "execution_count": 16,
   "id": "33aba774",
   "metadata": {},
   "outputs": [
    {
     "data": {
      "text/plain": [
       "0.2725563909774436"
      ]
     },
     "execution_count": 16,
     "metadata": {},
     "output_type": "execute_result"
    }
   ],
   "source": [
    "y/z"
   ]
  },
  {
   "cell_type": "code",
   "execution_count": 17,
   "id": "ceaa591a",
   "metadata": {},
   "outputs": [],
   "source": [
    "a='basket'\n",
    "b='ball'"
   ]
  },
  {
   "cell_type": "code",
   "execution_count": 18,
   "id": "cc2376fa",
   "metadata": {},
   "outputs": [
    {
     "data": {
      "text/plain": [
       "'basketball'"
      ]
     },
     "execution_count": 18,
     "metadata": {},
     "output_type": "execute_result"
    }
   ],
   "source": [
    "a+b"
   ]
  },
  {
   "cell_type": "code",
   "execution_count": 19,
   "id": "dea5a8a9",
   "metadata": {},
   "outputs": [],
   "source": [
    "c='I like to play basketball. '\n",
    "d='I also like to snowboard.'"
   ]
  },
  {
   "cell_type": "code",
   "execution_count": 20,
   "id": "9898eb4c",
   "metadata": {},
   "outputs": [
    {
     "data": {
      "text/plain": [
       "'I like to play basketball. I also like to snowboard.'"
      ]
     },
     "execution_count": 20,
     "metadata": {},
     "output_type": "execute_result"
    }
   ],
   "source": [
    "c+d"
   ]
  }
 ],
 "metadata": {
  "kernelspec": {
   "display_name": "Python 3 (ipykernel)",
   "language": "python",
   "name": "python3"
  },
  "language_info": {
   "codemirror_mode": {
    "name": "ipython",
    "version": 3
   },
   "file_extension": ".py",
   "mimetype": "text/x-python",
   "name": "python",
   "nbconvert_exporter": "python",
   "pygments_lexer": "ipython3",
   "version": "3.9.13"
  }
 },
 "nbformat": 4,
 "nbformat_minor": 5
}
