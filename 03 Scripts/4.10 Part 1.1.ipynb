{
 "cells": [
  {
   "cell_type": "code",
   "execution_count": 1,
   "id": "41d38989",
   "metadata": {},
   "outputs": [],
   "source": [
    "# Import libraries\n",
    "import pandas as pd\n",
    "import numpy as np\n",
    "import os\n",
    "import matplotlib.pyplot as plt\n",
    "import seaborn as sns\n",
    "import scipy"
   ]
  },
  {
   "cell_type": "code",
   "execution_count": 2,
   "id": "00d17a55",
   "metadata": {},
   "outputs": [],
   "source": [
    "path = r'C:\\Users\\Ben\\Desktop\\Career Foundry Tasks\\Instacart Basket Analysis 02-2023'"
   ]
  },
  {
   "cell_type": "code",
   "execution_count": 3,
   "id": "1a71c993",
   "metadata": {},
   "outputs": [],
   "source": [
    "ords_prods_cust = pd.read_pickle(os.path.join(path, '02 Data', 'Prepared Data', 'ords_prods_cust.pkl'))"
   ]
  },
  {
   "cell_type": "code",
   "execution_count": 4,
   "id": "de3c659b",
   "metadata": {},
   "outputs": [],
   "source": [
    "# Security Implications\n",
    "\n",
    "PII data exists because the data includes the names of people."
   ]
  },
  {
   "cell_type": "code",
   "execution_count": 5,
   "id": "e529607e",
   "metadata": {},
   "outputs": [
    {
     "data": {
      "text/html": [
       "<div>\n",
       "<style scoped>\n",
       "    .dataframe tbody tr th:only-of-type {\n",
       "        vertical-align: middle;\n",
       "    }\n",
       "\n",
       "    .dataframe tbody tr th {\n",
       "        vertical-align: top;\n",
       "    }\n",
       "\n",
       "    .dataframe thead th {\n",
       "        text-align: right;\n",
       "    }\n",
       "</style>\n",
       "<table border=\"1\" class=\"dataframe\">\n",
       "  <thead>\n",
       "    <tr style=\"text-align: right;\">\n",
       "      <th></th>\n",
       "      <th>order_id</th>\n",
       "      <th>user_id</th>\n",
       "      <th>order_number</th>\n",
       "      <th>order_dow</th>\n",
       "      <th>order_hour_of_day</th>\n",
       "      <th>days_since_prior_order</th>\n",
       "      <th>product_id</th>\n",
       "      <th>add_to_cart_order</th>\n",
       "      <th>reordered</th>\n",
       "      <th>Unnamed: 0</th>\n",
       "      <th>...</th>\n",
       "      <th>First Name</th>\n",
       "      <th>Last Name</th>\n",
       "      <th>Gender</th>\n",
       "      <th>State</th>\n",
       "      <th>Age</th>\n",
       "      <th>date_joined</th>\n",
       "      <th>n_dependants</th>\n",
       "      <th>marital_status</th>\n",
       "      <th>income</th>\n",
       "      <th>_merge</th>\n",
       "    </tr>\n",
       "  </thead>\n",
       "  <tbody>\n",
       "    <tr>\n",
       "      <th>0</th>\n",
       "      <td>2539329</td>\n",
       "      <td>1</td>\n",
       "      <td>1</td>\n",
       "      <td>2</td>\n",
       "      <td>8</td>\n",
       "      <td>NaN</td>\n",
       "      <td>196</td>\n",
       "      <td>1</td>\n",
       "      <td>0</td>\n",
       "      <td>195</td>\n",
       "      <td>...</td>\n",
       "      <td>Linda</td>\n",
       "      <td>Nguyen</td>\n",
       "      <td>Female</td>\n",
       "      <td>Alabama</td>\n",
       "      <td>31</td>\n",
       "      <td>2/17/2019</td>\n",
       "      <td>3</td>\n",
       "      <td>married</td>\n",
       "      <td>40423</td>\n",
       "      <td>both</td>\n",
       "    </tr>\n",
       "    <tr>\n",
       "      <th>1</th>\n",
       "      <td>2398795</td>\n",
       "      <td>1</td>\n",
       "      <td>2</td>\n",
       "      <td>3</td>\n",
       "      <td>7</td>\n",
       "      <td>15.0</td>\n",
       "      <td>196</td>\n",
       "      <td>1</td>\n",
       "      <td>1</td>\n",
       "      <td>195</td>\n",
       "      <td>...</td>\n",
       "      <td>Linda</td>\n",
       "      <td>Nguyen</td>\n",
       "      <td>Female</td>\n",
       "      <td>Alabama</td>\n",
       "      <td>31</td>\n",
       "      <td>2/17/2019</td>\n",
       "      <td>3</td>\n",
       "      <td>married</td>\n",
       "      <td>40423</td>\n",
       "      <td>both</td>\n",
       "    </tr>\n",
       "    <tr>\n",
       "      <th>2</th>\n",
       "      <td>473747</td>\n",
       "      <td>1</td>\n",
       "      <td>3</td>\n",
       "      <td>3</td>\n",
       "      <td>12</td>\n",
       "      <td>21.0</td>\n",
       "      <td>196</td>\n",
       "      <td>1</td>\n",
       "      <td>1</td>\n",
       "      <td>195</td>\n",
       "      <td>...</td>\n",
       "      <td>Linda</td>\n",
       "      <td>Nguyen</td>\n",
       "      <td>Female</td>\n",
       "      <td>Alabama</td>\n",
       "      <td>31</td>\n",
       "      <td>2/17/2019</td>\n",
       "      <td>3</td>\n",
       "      <td>married</td>\n",
       "      <td>40423</td>\n",
       "      <td>both</td>\n",
       "    </tr>\n",
       "    <tr>\n",
       "      <th>3</th>\n",
       "      <td>2254736</td>\n",
       "      <td>1</td>\n",
       "      <td>4</td>\n",
       "      <td>4</td>\n",
       "      <td>7</td>\n",
       "      <td>29.0</td>\n",
       "      <td>196</td>\n",
       "      <td>1</td>\n",
       "      <td>1</td>\n",
       "      <td>195</td>\n",
       "      <td>...</td>\n",
       "      <td>Linda</td>\n",
       "      <td>Nguyen</td>\n",
       "      <td>Female</td>\n",
       "      <td>Alabama</td>\n",
       "      <td>31</td>\n",
       "      <td>2/17/2019</td>\n",
       "      <td>3</td>\n",
       "      <td>married</td>\n",
       "      <td>40423</td>\n",
       "      <td>both</td>\n",
       "    </tr>\n",
       "    <tr>\n",
       "      <th>4</th>\n",
       "      <td>431534</td>\n",
       "      <td>1</td>\n",
       "      <td>5</td>\n",
       "      <td>4</td>\n",
       "      <td>15</td>\n",
       "      <td>28.0</td>\n",
       "      <td>196</td>\n",
       "      <td>1</td>\n",
       "      <td>1</td>\n",
       "      <td>195</td>\n",
       "      <td>...</td>\n",
       "      <td>Linda</td>\n",
       "      <td>Nguyen</td>\n",
       "      <td>Female</td>\n",
       "      <td>Alabama</td>\n",
       "      <td>31</td>\n",
       "      <td>2/17/2019</td>\n",
       "      <td>3</td>\n",
       "      <td>married</td>\n",
       "      <td>40423</td>\n",
       "      <td>both</td>\n",
       "    </tr>\n",
       "  </tbody>\n",
       "</table>\n",
       "<p>5 rows × 35 columns</p>\n",
       "</div>"
      ],
      "text/plain": [
       "   order_id  user_id  order_number  order_dow  order_hour_of_day  \\\n",
       "0   2539329        1             1          2                  8   \n",
       "1   2398795        1             2          3                  7   \n",
       "2    473747        1             3          3                 12   \n",
       "3   2254736        1             4          4                  7   \n",
       "4    431534        1             5          4                 15   \n",
       "\n",
       "   days_since_prior_order  product_id  add_to_cart_order  reordered  \\\n",
       "0                     NaN         196                  1          0   \n",
       "1                    15.0         196                  1          1   \n",
       "2                    21.0         196                  1          1   \n",
       "3                    29.0         196                  1          1   \n",
       "4                    28.0         196                  1          1   \n",
       "\n",
       "   Unnamed: 0  ... First Name  Last Name  Gender    State Age date_joined  \\\n",
       "0         195  ...      Linda     Nguyen  Female  Alabama  31   2/17/2019   \n",
       "1         195  ...      Linda     Nguyen  Female  Alabama  31   2/17/2019   \n",
       "2         195  ...      Linda     Nguyen  Female  Alabama  31   2/17/2019   \n",
       "3         195  ...      Linda     Nguyen  Female  Alabama  31   2/17/2019   \n",
       "4         195  ...      Linda     Nguyen  Female  Alabama  31   2/17/2019   \n",
       "\n",
       "  n_dependants marital_status income  _merge  \n",
       "0            3        married  40423    both  \n",
       "1            3        married  40423    both  \n",
       "2            3        married  40423    both  \n",
       "3            3        married  40423    both  \n",
       "4            3        married  40423    both  \n",
       "\n",
       "[5 rows x 35 columns]"
      ]
     },
     "execution_count": 5,
     "metadata": {},
     "output_type": "execute_result"
    }
   ],
   "source": [
    "ords_prods_cust.head()"
   ]
  },
  {
   "cell_type": "code",
   "execution_count": 17,
   "id": "5b4af307",
   "metadata": {},
   "outputs": [
    {
     "data": {
      "text/plain": [
       "Alabama                 638003\n",
       "Alaska                  648495\n",
       "Arizona                 653964\n",
       "Arkansas                636144\n",
       "California              659783\n",
       "Colorado                639280\n",
       "Connecticut             623022\n",
       "Delaware                637024\n",
       "District of Columbia    613695\n",
       "Florida                 629027\n",
       "Georgia                 656389\n",
       "Hawaii                  632901\n",
       "Idaho                   607119\n",
       "Illinois                633024\n",
       "Indiana                 627282\n",
       "Iowa                    625493\n",
       "Kansas                  637538\n",
       "Kentucky                632490\n",
       "Louisiana               637482\n",
       "Maine                   638583\n",
       "Maryland                626579\n",
       "Massachusetts           646358\n",
       "Michigan                630928\n",
       "Minnesota               647825\n",
       "Mississippi             632675\n",
       "Missouri                640732\n",
       "Montana                 635265\n",
       "Nebraska                625813\n",
       "Nevada                  636139\n",
       "New Hampshire           615378\n",
       "New Jersey              627692\n",
       "New Mexico              654494\n",
       "New York                635983\n",
       "North Carolina          651900\n",
       "North Dakota            638491\n",
       "Ohio                    628319\n",
       "Oklahoma                651739\n",
       "Oregon                  636425\n",
       "Pennsylvania            667082\n",
       "Rhode Island            656913\n",
       "South Carolina          636754\n",
       "South Dakota            633772\n",
       "Tennessee               617873\n",
       "Texas                   640394\n",
       "Utah                    611941\n",
       "Vermont                 611725\n",
       "Virginia                641421\n",
       "Washington              632852\n",
       "West Virginia           612296\n",
       "Wisconsin               628108\n",
       "Wyoming                 644255\n",
       "Name: State, dtype: int64"
      ]
     },
     "execution_count": 17,
     "metadata": {},
     "output_type": "execute_result"
    }
   ],
   "source": [
    "ords_prods_cust['State'].value_counts().sort_index()"
   ]
  },
  {
   "cell_type": "code",
   "execution_count": 24,
   "id": "1d2df376",
   "metadata": {},
   "outputs": [],
   "source": [
    "# Assign States to Regions\n",
    "\n",
    "NE = [\"Maine\", \"New Hampshire\", \"Vermont\", \"Massachusetts\", \"Rhode Island\", \"Connecticut\", \"New York\", \"Pennsylvania\", \"New Jersey\"]\n",
    "MW = [\"Wisconsin\", \"Michigan\", \"Illinois\", \"Indiana\", \"Ohio\", \"North Dakota\", \"South Dakota\", \"Nebraska\", \"Kansas\", \"Minnesota\", \"Iowa\", \"Missouri\"]\n",
    "S = [\"Delaware\", \"Maryland\", \"District of Columbia\", \"Virginia\", \"West Virginia\", \"North Carolina\", \"South Carolina\", \"Georgia\", \"Florida\", \"Kentucky\", \"Tennessee\", \"Mississippi\", \"Alabama\", \"Oklahoma\", \"Texas\", \"Arkansas\", \"Louisiana\"]\n",
    "W = [\"Idaho\", \"Montana\", \"Wyoming\", \"Nevada\", \"Utah\", \"Colorado\", \"Arizona\", \"New Mexico\", \"Alaska\", \"Washington\", \"Oregon\", \"California\", \"Hawaii\"]"
   ]
  },
  {
   "cell_type": "code",
   "execution_count": 25,
   "id": "a076b1ce",
   "metadata": {},
   "outputs": [],
   "source": [
    "# Create Region column with the regions assigned based off of the state\n",
    "\n",
    "ords_prods_cust.loc[ords_prods_cust['State'].isin(NE), 'Region'] = 'Northeast'\n",
    "ords_prods_cust.loc[ords_prods_cust['State'].isin(MW), 'Region'] = 'Midwest'\n",
    "ords_prods_cust.loc[ords_prods_cust['State'].isin(S), 'Region'] = 'South'\n",
    "ords_prods_cust.loc[ords_prods_cust['State'].isin(W), 'Region'] = 'West'"
   ]
  },
  {
   "cell_type": "code",
   "execution_count": 26,
   "id": "330338d2",
   "metadata": {},
   "outputs": [
    {
     "data": {
      "text/plain": [
       "South        10791885\n",
       "West          8292913\n",
       "Midwest       7597325\n",
       "Northeast     5722736\n",
       "Name: Region, dtype: int64"
      ]
     },
     "execution_count": 26,
     "metadata": {},
     "output_type": "execute_result"
    }
   ],
   "source": [
    "# Verify all data has a valid region\n",
    "\n",
    "ords_prods_cust['Region'].value_counts(dropna = False)"
   ]
  },
  {
   "cell_type": "code",
   "execution_count": 30,
   "id": "3d6b8221",
   "metadata": {},
   "outputs": [],
   "source": [
    "# Spending habits based off of region\n",
    "\n",
    "crosstab = pd.crosstab(ords_prods_cust['Region'], ords_prods_cust['spender_flag'], dropna = False)"
   ]
  },
  {
   "cell_type": "code",
   "execution_count": 31,
   "id": "7ce13f86",
   "metadata": {},
   "outputs": [
    {
     "data": {
      "text/html": [
       "<div>\n",
       "<style scoped>\n",
       "    .dataframe tbody tr th:only-of-type {\n",
       "        vertical-align: middle;\n",
       "    }\n",
       "\n",
       "    .dataframe tbody tr th {\n",
       "        vertical-align: top;\n",
       "    }\n",
       "\n",
       "    .dataframe thead th {\n",
       "        text-align: right;\n",
       "    }\n",
       "</style>\n",
       "<table border=\"1\" class=\"dataframe\">\n",
       "  <thead>\n",
       "    <tr style=\"text-align: right;\">\n",
       "      <th>spender_flag</th>\n",
       "      <th>High spender</th>\n",
       "      <th>Low spender</th>\n",
       "    </tr>\n",
       "    <tr>\n",
       "      <th>Region</th>\n",
       "      <th></th>\n",
       "      <th></th>\n",
       "    </tr>\n",
       "  </thead>\n",
       "  <tbody>\n",
       "    <tr>\n",
       "      <th>Midwest</th>\n",
       "      <td>155975</td>\n",
       "      <td>7441350</td>\n",
       "    </tr>\n",
       "    <tr>\n",
       "      <th>Northeast</th>\n",
       "      <td>108225</td>\n",
       "      <td>5614511</td>\n",
       "    </tr>\n",
       "    <tr>\n",
       "      <th>South</th>\n",
       "      <td>209691</td>\n",
       "      <td>10582194</td>\n",
       "    </tr>\n",
       "    <tr>\n",
       "      <th>West</th>\n",
       "      <td>160354</td>\n",
       "      <td>8132559</td>\n",
       "    </tr>\n",
       "  </tbody>\n",
       "</table>\n",
       "</div>"
      ],
      "text/plain": [
       "spender_flag  High spender  Low spender\n",
       "Region                                 \n",
       "Midwest             155975      7441350\n",
       "Northeast           108225      5614511\n",
       "South               209691     10582194\n",
       "West                160354      8132559"
      ]
     },
     "execution_count": 31,
     "metadata": {},
     "output_type": "execute_result"
    }
   ],
   "source": [
    "crosstab"
   ]
  },
  {
   "cell_type": "code",
   "execution_count": 32,
   "id": "734bdf56",
   "metadata": {},
   "outputs": [
    {
     "name": "stdout",
     "output_type": "stream",
     "text": [
      "<class 'pandas.core.frame.DataFrame'>\n",
      "Int64Index: 32404859 entries, 0 to 32404858\n",
      "Data columns (total 36 columns):\n",
      " #   Column                    Dtype   \n",
      "---  ------                    -----   \n",
      " 0   order_id                  int64   \n",
      " 1   user_id                   int64   \n",
      " 2   order_number              int64   \n",
      " 3   order_dow                 int64   \n",
      " 4   order_hour_of_day         int64   \n",
      " 5   days_since_prior_order    float64 \n",
      " 6   product_id                int64   \n",
      " 7   add_to_cart_order         int64   \n",
      " 8   reordered                 int64   \n",
      " 9   Unnamed: 0                int64   \n",
      " 10  product_name              object  \n",
      " 11  aisle_id                  int64   \n",
      " 12  department_id             int64   \n",
      " 13  prices                    float64 \n",
      " 14  merge                     category\n",
      " 15  price_range_loc           object  \n",
      " 16  busiest_day               object  \n",
      " 17  busiest_days              object  \n",
      " 18  busiest_hours_of_the_day  object  \n",
      " 19  max_order                 int64   \n",
      " 20  loyalty_flag              object  \n",
      " 21  average_price             float64 \n",
      " 22  spender_flag              object  \n",
      " 23  median_prior_order        float64 \n",
      " 24  frequency_flag            object  \n",
      " 25  First Name                object  \n",
      " 26  Last Name                 object  \n",
      " 27  Gender                    object  \n",
      " 28  State                     object  \n",
      " 29  Age                       int64   \n",
      " 30  date_joined               object  \n",
      " 31  n_dependants              int64   \n",
      " 32  marital_status            object  \n",
      " 33  income                    int64   \n",
      " 34  _merge                    category\n",
      " 35  Region                    object  \n",
      "dtypes: category(2), float64(4), int64(15), object(15)\n",
      "memory usage: 8.5+ GB\n"
     ]
    }
   ],
   "source": [
    "ords_prods_cust.info()"
   ]
  },
  {
   "cell_type": "code",
   "execution_count": 34,
   "id": "a81a8c74",
   "metadata": {},
   "outputs": [],
   "source": [
    "ords_prods_cust.loc[ords_prods_cust['max_order'] < 5, 'exclusion_flag'] = 'exclude'"
   ]
  },
  {
   "cell_type": "code",
   "execution_count": 35,
   "id": "3aacbd51",
   "metadata": {},
   "outputs": [],
   "source": [
    "ords_prods_cust.loc[ords_prods_cust['max_order'] >= 5, 'exclusion_flag'] = 'include'"
   ]
  },
  {
   "cell_type": "code",
   "execution_count": 36,
   "id": "13153d6d",
   "metadata": {},
   "outputs": [
    {
     "data": {
      "text/plain": [
       "include    30964564\n",
       "exclude     1440295\n",
       "Name: exclusion_flag, dtype: int64"
      ]
     },
     "execution_count": 36,
     "metadata": {},
     "output_type": "execute_result"
    }
   ],
   "source": [
    "ords_prods_cust['exclusion_flag'].value_counts(dropna = False)"
   ]
  },
  {
   "cell_type": "code",
   "execution_count": 37,
   "id": "08b5a5dd",
   "metadata": {},
   "outputs": [],
   "source": [
    "df_high_activity = ords_prods_cust.loc[ords_prods_cust['exclusion_flag'] == 'include']"
   ]
  },
  {
   "cell_type": "code",
   "execution_count": 38,
   "id": "c19d3eae",
   "metadata": {},
   "outputs": [
    {
     "name": "stdout",
     "output_type": "stream",
     "text": [
      "<class 'pandas.core.frame.DataFrame'>\n",
      "Int64Index: 30964564 entries, 0 to 32404854\n",
      "Data columns (total 37 columns):\n",
      " #   Column                    Dtype   \n",
      "---  ------                    -----   \n",
      " 0   order_id                  int64   \n",
      " 1   user_id                   int64   \n",
      " 2   order_number              int64   \n",
      " 3   order_dow                 int64   \n",
      " 4   order_hour_of_day         int64   \n",
      " 5   days_since_prior_order    float64 \n",
      " 6   product_id                int64   \n",
      " 7   add_to_cart_order         int64   \n",
      " 8   reordered                 int64   \n",
      " 9   Unnamed: 0                int64   \n",
      " 10  product_name              object  \n",
      " 11  aisle_id                  int64   \n",
      " 12  department_id             int64   \n",
      " 13  prices                    float64 \n",
      " 14  merge                     category\n",
      " 15  price_range_loc           object  \n",
      " 16  busiest_day               object  \n",
      " 17  busiest_days              object  \n",
      " 18  busiest_hours_of_the_day  object  \n",
      " 19  max_order                 int64   \n",
      " 20  loyalty_flag              object  \n",
      " 21  average_price             float64 \n",
      " 22  spender_flag              object  \n",
      " 23  median_prior_order        float64 \n",
      " 24  frequency_flag            object  \n",
      " 25  First Name                object  \n",
      " 26  Last Name                 object  \n",
      " 27  Gender                    object  \n",
      " 28  State                     object  \n",
      " 29  Age                       int64   \n",
      " 30  date_joined               object  \n",
      " 31  n_dependants              int64   \n",
      " 32  marital_status            object  \n",
      " 33  income                    int64   \n",
      " 34  _merge                    category\n",
      " 35  Region                    object  \n",
      " 36  exclusion_flag            object  \n",
      "dtypes: category(2), float64(4), int64(15), object(16)\n",
      "memory usage: 8.4+ GB\n"
     ]
    }
   ],
   "source": [
    "df_high_activity.info()"
   ]
  },
  {
   "cell_type": "code",
   "execution_count": 39,
   "id": "a384c78f",
   "metadata": {},
   "outputs": [],
   "source": [
    "df_low_activity = ords_prods_cust.loc[ords_prods_cust['exclusion_flag'] == 'exclude']"
   ]
  },
  {
   "cell_type": "code",
   "execution_count": 40,
   "id": "e3ff0f23",
   "metadata": {},
   "outputs": [],
   "source": [
    "df_high_activity.to_pickle(os.path.join(path, '02 Data','Prepared Data', 'high_activity.pkl'))"
   ]
  },
  {
   "cell_type": "code",
   "execution_count": 41,
   "id": "c4094ef7",
   "metadata": {},
   "outputs": [],
   "source": [
    "df_low_activity.to_pickle(os.path.join(path, '02 Data','Prepared Data', 'low_activity.pkl'))"
   ]
  },
  {
   "cell_type": "code",
   "execution_count": 49,
   "id": "68710afd",
   "metadata": {},
   "outputs": [
    {
     "data": {
      "text/html": [
       "<div>\n",
       "<style scoped>\n",
       "    .dataframe tbody tr th:only-of-type {\n",
       "        vertical-align: middle;\n",
       "    }\n",
       "\n",
       "    .dataframe tbody tr th {\n",
       "        vertical-align: top;\n",
       "    }\n",
       "\n",
       "    .dataframe thead th {\n",
       "        text-align: right;\n",
       "    }\n",
       "</style>\n",
       "<table border=\"1\" class=\"dataframe\">\n",
       "  <thead>\n",
       "    <tr style=\"text-align: right;\">\n",
       "      <th></th>\n",
       "      <th>Age</th>\n",
       "      <th>income</th>\n",
       "      <th>n_dependants</th>\n",
       "    </tr>\n",
       "  </thead>\n",
       "  <tbody>\n",
       "    <tr>\n",
       "      <th>count</th>\n",
       "      <td>3.096456e+07</td>\n",
       "      <td>3.096456e+07</td>\n",
       "      <td>3.096456e+07</td>\n",
       "    </tr>\n",
       "    <tr>\n",
       "      <th>mean</th>\n",
       "      <td>4.946803e+01</td>\n",
       "      <td>9.967587e+04</td>\n",
       "      <td>1.501819e+00</td>\n",
       "    </tr>\n",
       "    <tr>\n",
       "      <th>std</th>\n",
       "      <td>1.848528e+01</td>\n",
       "      <td>4.314187e+04</td>\n",
       "      <td>1.118896e+00</td>\n",
       "    </tr>\n",
       "    <tr>\n",
       "      <th>min</th>\n",
       "      <td>1.800000e+01</td>\n",
       "      <td>2.590300e+04</td>\n",
       "      <td>0.000000e+00</td>\n",
       "    </tr>\n",
       "    <tr>\n",
       "      <th>25%</th>\n",
       "      <td>3.300000e+01</td>\n",
       "      <td>6.729200e+04</td>\n",
       "      <td>1.000000e+00</td>\n",
       "    </tr>\n",
       "    <tr>\n",
       "      <th>50%</th>\n",
       "      <td>4.900000e+01</td>\n",
       "      <td>9.676500e+04</td>\n",
       "      <td>2.000000e+00</td>\n",
       "    </tr>\n",
       "    <tr>\n",
       "      <th>75%</th>\n",
       "      <td>6.500000e+01</td>\n",
       "      <td>1.281020e+05</td>\n",
       "      <td>3.000000e+00</td>\n",
       "    </tr>\n",
       "    <tr>\n",
       "      <th>max</th>\n",
       "      <td>8.100000e+01</td>\n",
       "      <td>5.939010e+05</td>\n",
       "      <td>3.000000e+00</td>\n",
       "    </tr>\n",
       "  </tbody>\n",
       "</table>\n",
       "</div>"
      ],
      "text/plain": [
       "                Age        income  n_dependants\n",
       "count  3.096456e+07  3.096456e+07  3.096456e+07\n",
       "mean   4.946803e+01  9.967587e+04  1.501819e+00\n",
       "std    1.848528e+01  4.314187e+04  1.118896e+00\n",
       "min    1.800000e+01  2.590300e+04  0.000000e+00\n",
       "25%    3.300000e+01  6.729200e+04  1.000000e+00\n",
       "50%    4.900000e+01  9.676500e+04  2.000000e+00\n",
       "75%    6.500000e+01  1.281020e+05  3.000000e+00\n",
       "max    8.100000e+01  5.939010e+05  3.000000e+00"
      ]
     },
     "execution_count": 49,
     "metadata": {},
     "output_type": "execute_result"
    }
   ],
   "source": [
    "df_high_activity[[\"Age\", \"income\", \"n_dependants\"]].describe()"
   ]
  },
  {
   "cell_type": "code",
   "execution_count": 52,
   "id": "62a74904",
   "metadata": {},
   "outputs": [
    {
     "data": {
      "text/plain": [
       "0    6204182\n",
       "1    5660230\n",
       "6    4496490\n",
       "2    4213830\n",
       "5    4205791\n",
       "3    3840534\n",
       "4    3783802\n",
       "Name: order_dow, dtype: int64"
      ]
     },
     "execution_count": 52,
     "metadata": {},
     "output_type": "execute_result"
    }
   ],
   "source": [
    "ords_prods_cust['order_dow'].value_counts(dropna = False)"
   ]
  },
  {
   "cell_type": "code",
   "execution_count": null,
   "id": "6032c0e2",
   "metadata": {},
   "outputs": [],
   "source": []
  }
 ],
 "metadata": {
  "kernelspec": {
   "display_name": "Python 3 (ipykernel)",
   "language": "python",
   "name": "python3"
  },
  "language_info": {
   "codemirror_mode": {
    "name": "ipython",
    "version": 3
   },
   "file_extension": ".py",
   "mimetype": "text/x-python",
   "name": "python",
   "nbconvert_exporter": "python",
   "pygments_lexer": "ipython3",
   "version": "3.9.13"
  }
 },
 "nbformat": 4,
 "nbformat_minor": 5
}
